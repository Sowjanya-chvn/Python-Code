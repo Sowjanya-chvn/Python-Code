{
 "cells": [
  {
   "cell_type": "code",
   "execution_count": 2,
   "id": "5dbb42b4",
   "metadata": {},
   "outputs": [],
   "source": [
    "x=10"
   ]
  },
  {
   "cell_type": "code",
   "execution_count": 4,
   "id": "ec392a4e",
   "metadata": {},
   "outputs": [],
   "source": [
    "y=-1000000"
   ]
  },
  {
   "cell_type": "code",
   "execution_count": null,
   "id": "218ab742",
   "metadata": {},
   "outputs": [],
   "source": []
  },
  {
   "cell_type": "code",
   "execution_count": 3,
   "id": "46472a59",
   "metadata": {},
   "outputs": [
    {
     "data": {
      "text/plain": [
       "10"
      ]
     },
     "execution_count": 3,
     "metadata": {},
     "output_type": "execute_result"
    }
   ],
   "source": [
    "x"
   ]
  },
  {
   "cell_type": "code",
   "execution_count": 5,
   "id": "3aa54912",
   "metadata": {},
   "outputs": [
    {
     "data": {
      "text/plain": [
       "-1000000"
      ]
     },
     "execution_count": 5,
     "metadata": {},
     "output_type": "execute_result"
    }
   ],
   "source": [
    "y"
   ]
  },
  {
   "cell_type": "code",
   "execution_count": 7,
   "id": "52baeaf5",
   "metadata": {},
   "outputs": [],
   "source": [
    "_x=100"
   ]
  },
  {
   "cell_type": "code",
   "execution_count": 8,
   "id": "b015d659",
   "metadata": {},
   "outputs": [
    {
     "data": {
      "text/plain": [
       "100"
      ]
     },
     "execution_count": 8,
     "metadata": {},
     "output_type": "execute_result"
    }
   ],
   "source": [
    "_x"
   ]
  },
  {
   "cell_type": "code",
   "execution_count": 9,
   "id": "4e0f9800",
   "metadata": {},
   "outputs": [],
   "source": [
    "x123=-200.66"
   ]
  },
  {
   "cell_type": "code",
   "execution_count": 10,
   "id": "b514f796",
   "metadata": {},
   "outputs": [
    {
     "data": {
      "text/plain": [
       "-200.66"
      ]
     },
     "execution_count": 10,
     "metadata": {},
     "output_type": "execute_result"
    }
   ],
   "source": [
    "x123"
   ]
  },
  {
   "cell_type": "code",
   "execution_count": 11,
   "id": "f272ed56",
   "metadata": {},
   "outputs": [
    {
     "ename": "SyntaxError",
     "evalue": "cannot assign to operator (692968952.py, line 1)",
     "output_type": "error",
     "traceback": [
      "\u001b[1;36m  File \u001b[1;32m\"C:\\Users\\LENOVO\\AppData\\Local\\Temp\\ipykernel_18164\\692968952.py\"\u001b[1;36m, line \u001b[1;32m1\u001b[0m\n\u001b[1;33m    x@1=1000\u001b[0m\n\u001b[1;37m    ^\u001b[0m\n\u001b[1;31mSyntaxError\u001b[0m\u001b[1;31m:\u001b[0m cannot assign to operator\n"
     ]
    }
   ],
   "source": [
    "x@1=1000"
   ]
  },
  {
   "cell_type": "code",
   "execution_count": 12,
   "id": "83bc5dde",
   "metadata": {},
   "outputs": [
    {
     "ename": "SyntaxError",
     "evalue": "invalid syntax (2475650803.py, line 1)",
     "output_type": "error",
     "traceback": [
      "\u001b[1;36m  File \u001b[1;32m\"C:\\Users\\LENOVO\\AppData\\Local\\Temp\\ipykernel_18164\\2475650803.py\"\u001b[1;36m, line \u001b[1;32m1\u001b[0m\n\u001b[1;33m    x u=100\u001b[0m\n\u001b[1;37m      ^\u001b[0m\n\u001b[1;31mSyntaxError\u001b[0m\u001b[1;31m:\u001b[0m invalid syntax\n"
     ]
    }
   ],
   "source": [
    "x u=100"
   ]
  },
  {
   "cell_type": "code",
   "execution_count": 13,
   "id": "547c7e22",
   "metadata": {},
   "outputs": [],
   "source": [
    "x=100\n",
    "X=1000"
   ]
  },
  {
   "cell_type": "code",
   "execution_count": 14,
   "id": "c5c8b766",
   "metadata": {},
   "outputs": [
    {
     "data": {
      "text/plain": [
       "100"
      ]
     },
     "execution_count": 14,
     "metadata": {},
     "output_type": "execute_result"
    }
   ],
   "source": [
    "x"
   ]
  },
  {
   "cell_type": "code",
   "execution_count": 15,
   "id": "21da6a00",
   "metadata": {},
   "outputs": [
    {
     "data": {
      "text/plain": [
       "1000"
      ]
     },
     "execution_count": 15,
     "metadata": {},
     "output_type": "execute_result"
    }
   ],
   "source": [
    "X"
   ]
  },
  {
   "cell_type": "code",
   "execution_count": 16,
   "id": "c019e612",
   "metadata": {},
   "outputs": [],
   "source": [
    "x=100"
   ]
  },
  {
   "cell_type": "code",
   "execution_count": 17,
   "id": "4c9e8075",
   "metadata": {},
   "outputs": [],
   "source": [
    "x=0.100"
   ]
  },
  {
   "cell_type": "code",
   "execution_count": 18,
   "id": "cf1a6d5b",
   "metadata": {},
   "outputs": [],
   "source": [
    "x=1+2j"
   ]
  },
  {
   "cell_type": "code",
   "execution_count": 19,
   "id": "f4e8b206",
   "metadata": {},
   "outputs": [
    {
     "data": {
      "text/plain": [
       "(1+2j)"
      ]
     },
     "execution_count": 19,
     "metadata": {},
     "output_type": "execute_result"
    }
   ],
   "source": [
    "x"
   ]
  },
  {
   "cell_type": "code",
   "execution_count": 25,
   "id": "9098deef",
   "metadata": {},
   "outputs": [],
   "source": [
    "x=-1-2.0 "
   ]
  },
  {
   "cell_type": "code",
   "execution_count": 26,
   "id": "0ef690d6",
   "metadata": {},
   "outputs": [
    {
     "data": {
      "text/plain": [
       "(-1-2j)"
      ]
     },
     "execution_count": 26,
     "metadata": {},
     "output_type": "execute_result"
    }
   ],
   "source": [
    "x"
   ]
  },
  {
   "cell_type": "code",
   "execution_count": 23,
   "id": "3440271f",
   "metadata": {},
   "outputs": [
    {
     "ename": "SyntaxError",
     "evalue": "invalid syntax (3472609567.py, line 1)",
     "output_type": "error",
     "traceback": [
      "\u001b[1;36m  File \u001b[1;32m\"C:\\Users\\LENOVO\\AppData\\Local\\Temp\\ipykernel_18164\\3472609567.py\"\u001b[1;36m, line \u001b[1;32m1\u001b[0m\n\u001b[1;33m    x=1+2a\u001b[0m\n\u001b[1;37m         ^\u001b[0m\n\u001b[1;31mSyntaxError\u001b[0m\u001b[1;31m:\u001b[0m invalid syntax\n"
     ]
    }
   ],
   "source": [
    "x=1+2a"
   ]
  },
  {
   "cell_type": "code",
   "execution_count": 32,
   "id": "9ab7bdda",
   "metadata": {},
   "outputs": [],
   "source": [
    "x=1000000000000000000000000000000000"
   ]
  },
  {
   "cell_type": "code",
   "execution_count": 33,
   "id": "6f3bb7aa",
   "metadata": {},
   "outputs": [
    {
     "data": {
      "text/plain": [
       "int"
      ]
     },
     "execution_count": 33,
     "metadata": {},
     "output_type": "execute_result"
    }
   ],
   "source": [
    "type(x)"
   ]
  },
  {
   "cell_type": "code",
   "execution_count": 30,
   "id": "37352bd6",
   "metadata": {},
   "outputs": [],
   "source": [
    "y=-100000"
   ]
  },
  {
   "cell_type": "code",
   "execution_count": 31,
   "id": "6431ca1a",
   "metadata": {},
   "outputs": [
    {
     "data": {
      "text/plain": [
       "int"
      ]
     },
     "execution_count": 31,
     "metadata": {},
     "output_type": "execute_result"
    }
   ],
   "source": [
    "type(y)"
   ]
  },
  {
   "cell_type": "code",
   "execution_count": 34,
   "id": "61d1f46a",
   "metadata": {},
   "outputs": [],
   "source": [
    "z=-1.0"
   ]
  },
  {
   "cell_type": "code",
   "execution_count": 35,
   "id": "f7298a13",
   "metadata": {},
   "outputs": [
    {
     "data": {
      "text/plain": [
       "float"
      ]
     },
     "execution_count": 35,
     "metadata": {},
     "output_type": "execute_result"
    }
   ],
   "source": [
    "type(z)"
   ]
  },
  {
   "cell_type": "code",
   "execution_count": 36,
   "id": "62c7ba1d",
   "metadata": {},
   "outputs": [],
   "source": [
    "q=10000.1000"
   ]
  },
  {
   "cell_type": "code",
   "execution_count": 37,
   "id": "9f5ea55e",
   "metadata": {},
   "outputs": [
    {
     "data": {
      "text/plain": [
       "float"
      ]
     },
     "execution_count": 37,
     "metadata": {},
     "output_type": "execute_result"
    }
   ],
   "source": [
    "type(q)"
   ]
  },
  {
   "cell_type": "code",
   "execution_count": 38,
   "id": "5ffe72c3",
   "metadata": {},
   "outputs": [],
   "source": [
    "x=1+2j"
   ]
  },
  {
   "cell_type": "code",
   "execution_count": 39,
   "id": "07d08998",
   "metadata": {},
   "outputs": [
    {
     "data": {
      "text/plain": [
       "complex"
      ]
     },
     "execution_count": 39,
     "metadata": {},
     "output_type": "execute_result"
    }
   ],
   "source": [
    "type(x)"
   ]
  },
  {
   "cell_type": "code",
   "execution_count": 40,
   "id": "49d1e458",
   "metadata": {},
   "outputs": [],
   "source": [
    "x=1-2456j"
   ]
  },
  {
   "cell_type": "code",
   "execution_count": 41,
   "id": "ac1b69e4",
   "metadata": {},
   "outputs": [
    {
     "data": {
      "text/plain": [
       "complex"
      ]
     },
     "execution_count": 41,
     "metadata": {},
     "output_type": "execute_result"
    }
   ],
   "source": [
    "type(x)"
   ]
  },
  {
   "cell_type": "code",
   "execution_count": 42,
   "id": "209baee4",
   "metadata": {},
   "outputs": [
    {
     "data": {
      "text/plain": [
       "2"
      ]
     },
     "execution_count": 42,
     "metadata": {},
     "output_type": "execute_result"
    }
   ],
   "source": [
    "1+1"
   ]
  },
  {
   "cell_type": "code",
   "execution_count": 43,
   "id": "cff328ca",
   "metadata": {},
   "outputs": [
    {
     "data": {
      "text/plain": [
       "3.0"
      ]
     },
     "execution_count": 43,
     "metadata": {},
     "output_type": "execute_result"
    }
   ],
   "source": [
    "1+2.0"
   ]
  },
  {
   "cell_type": "code",
   "execution_count": 44,
   "id": "55bfcded",
   "metadata": {},
   "outputs": [
    {
     "data": {
      "text/plain": [
       "(3+2j)"
      ]
     },
     "execution_count": 44,
     "metadata": {},
     "output_type": "execute_result"
    }
   ],
   "source": [
    "   +1+2j"
   ]
  },
  {
   "cell_type": "code",
   "execution_count": 45,
   "id": "6a805198",
   "metadata": {},
   "outputs": [],
   "source": [
    "x=10"
   ]
  },
  {
   "cell_type": "code",
   "execution_count": 46,
   "id": "9b7508c2",
   "metadata": {},
   "outputs": [
    {
     "data": {
      "text/plain": [
       "10"
      ]
     },
     "execution_count": 46,
     "metadata": {},
     "output_type": "execute_result"
    }
   ],
   "source": [
    "int(x)"
   ]
  },
  {
   "cell_type": "code",
   "execution_count": 47,
   "id": "bd48ee86",
   "metadata": {},
   "outputs": [],
   "source": [
    "y=10000.2334"
   ]
  },
  {
   "cell_type": "code",
   "execution_count": 48,
   "id": "66dfa169",
   "metadata": {},
   "outputs": [
    {
     "data": {
      "text/plain": [
       "10000"
      ]
     },
     "execution_count": 48,
     "metadata": {},
     "output_type": "execute_result"
    }
   ],
   "source": [
    "int(y)"
   ]
  },
  {
   "cell_type": "code",
   "execution_count": 49,
   "id": "ba9d6359",
   "metadata": {},
   "outputs": [],
   "source": [
    "z=1.100"
   ]
  },
  {
   "cell_type": "code",
   "execution_count": 50,
   "id": "ab69465c",
   "metadata": {},
   "outputs": [
    {
     "data": {
      "text/plain": [
       "1.1"
      ]
     },
     "execution_count": 50,
     "metadata": {},
     "output_type": "execute_result"
    }
   ],
   "source": [
    "float(z)"
   ]
  },
  {
   "cell_type": "code",
   "execution_count": 51,
   "id": "782a3f24",
   "metadata": {},
   "outputs": [],
   "source": [
    "q=1000"
   ]
  },
  {
   "cell_type": "code",
   "execution_count": 52,
   "id": "5277ebdc",
   "metadata": {},
   "outputs": [
    {
     "data": {
      "text/plain": [
       "1000.0"
      ]
     },
     "execution_count": 52,
     "metadata": {},
     "output_type": "execute_result"
    }
   ],
   "source": [
    "float(q)"
   ]
  },
  {
   "cell_type": "code",
   "execution_count": 55,
   "id": "85c9b129",
   "metadata": {},
   "outputs": [],
   "source": [
    "z=1"
   ]
  },
  {
   "cell_type": "code",
   "execution_count": 56,
   "id": "faa4c78b",
   "metadata": {},
   "outputs": [
    {
     "data": {
      "text/plain": [
       "(1+0j)"
      ]
     },
     "execution_count": 56,
     "metadata": {},
     "output_type": "execute_result"
    }
   ],
   "source": [
    "complex(z)"
   ]
  },
  {
   "cell_type": "code",
   "execution_count": 57,
   "id": "ef72981e",
   "metadata": {},
   "outputs": [],
   "source": [
    "z=1.0"
   ]
  },
  {
   "cell_type": "code",
   "execution_count": 58,
   "id": "184a6572",
   "metadata": {},
   "outputs": [
    {
     "data": {
      "text/plain": [
       "(1+0j)"
      ]
     },
     "execution_count": 58,
     "metadata": {},
     "output_type": "execute_result"
    }
   ],
   "source": [
    "complex(z)"
   ]
  },
  {
   "cell_type": "code",
   "execution_count": 59,
   "id": "335f4ee0",
   "metadata": {},
   "outputs": [
    {
     "data": {
      "text/plain": [
       "(1-27j)"
      ]
     },
     "execution_count": 59,
     "metadata": {},
     "output_type": "execute_result"
    }
   ],
   "source": [
    "z=1-27j\n",
    "complex(z)"
   ]
  },
  {
   "cell_type": "code",
   "execution_count": 60,
   "id": "a985659f",
   "metadata": {},
   "outputs": [],
   "source": [
    "z=1+2j"
   ]
  },
  {
   "cell_type": "code",
   "execution_count": 61,
   "id": "1e85c20e",
   "metadata": {},
   "outputs": [
    {
     "ename": "TypeError",
     "evalue": "can't convert complex to int",
     "output_type": "error",
     "traceback": [
      "\u001b[1;31m---------------------------------------------------------------------------\u001b[0m",
      "\u001b[1;31mTypeError\u001b[0m                                 Traceback (most recent call last)",
      "\u001b[1;32m~\\AppData\\Local\\Temp\\ipykernel_18164\\3434479186.py\u001b[0m in \u001b[0;36m<module>\u001b[1;34m\u001b[0m\n\u001b[1;32m----> 1\u001b[1;33m \u001b[0mint\u001b[0m\u001b[1;33m(\u001b[0m\u001b[0mz\u001b[0m\u001b[1;33m)\u001b[0m\u001b[1;33m\u001b[0m\u001b[1;33m\u001b[0m\u001b[0m\n\u001b[0m",
      "\u001b[1;31mTypeError\u001b[0m: can't convert complex to int"
     ]
    }
   ],
   "source": [
    "int(z)"
   ]
  },
  {
   "cell_type": "code",
   "execution_count": 62,
   "id": "a88895bc",
   "metadata": {},
   "outputs": [
    {
     "ename": "TypeError",
     "evalue": "can't convert complex to float",
     "output_type": "error",
     "traceback": [
      "\u001b[1;31m---------------------------------------------------------------------------\u001b[0m",
      "\u001b[1;31mTypeError\u001b[0m                                 Traceback (most recent call last)",
      "\u001b[1;32m~\\AppData\\Local\\Temp\\ipykernel_18164\\3962671547.py\u001b[0m in \u001b[0;36m<module>\u001b[1;34m\u001b[0m\n\u001b[1;32m----> 1\u001b[1;33m \u001b[0mfloat\u001b[0m\u001b[1;33m(\u001b[0m\u001b[1;36m2\u001b[0m\u001b[1;33m+\u001b[0m\u001b[1;36m6j\u001b[0m\u001b[1;33m)\u001b[0m\u001b[1;33m\u001b[0m\u001b[1;33m\u001b[0m\u001b[0m\n\u001b[0m",
      "\u001b[1;31mTypeError\u001b[0m: can't convert complex to float"
     ]
    }
   ],
   "source": [
    "float(2+6j)"
   ]
  },
  {
   "cell_type": "code",
   "execution_count": 64,
   "id": "eb1790d4",
   "metadata": {},
   "outputs": [],
   "source": [
    "z=1+0j"
   ]
  },
  {
   "cell_type": "code",
   "execution_count": 65,
   "id": "76e1c6dd",
   "metadata": {},
   "outputs": [],
   "source": [
    "x=100"
   ]
  },
  {
   "cell_type": "code",
   "execution_count": 66,
   "id": "dbe6dab9",
   "metadata": {},
   "outputs": [
    {
     "data": {
      "text/plain": [
       "2442127037904"
      ]
     },
     "execution_count": 66,
     "metadata": {},
     "output_type": "execute_result"
    }
   ],
   "source": [
    "id(x)"
   ]
  },
  {
   "cell_type": "code",
   "execution_count": 67,
   "id": "ce98836b",
   "metadata": {},
   "outputs": [],
   "source": [
    "x=10\n",
    "X=1000"
   ]
  },
  {
   "cell_type": "code",
   "execution_count": 68,
   "id": "9a00b86a",
   "metadata": {},
   "outputs": [
    {
     "data": {
      "text/plain": [
       "2442126846544"
      ]
     },
     "execution_count": 68,
     "metadata": {},
     "output_type": "execute_result"
    }
   ],
   "source": [
    "id(x)"
   ]
  },
  {
   "cell_type": "code",
   "execution_count": 69,
   "id": "8bb38bd0",
   "metadata": {},
   "outputs": [
    {
     "data": {
      "text/plain": [
       "2442206869520"
      ]
     },
     "execution_count": 69,
     "metadata": {},
     "output_type": "execute_result"
    }
   ],
   "source": [
    "id(X)"
   ]
  },
  {
   "cell_type": "code",
   "execution_count": 70,
   "id": "78a7d9c2",
   "metadata": {},
   "outputs": [],
   "source": [
    "x=10\n",
    "y=10"
   ]
  },
  {
   "cell_type": "code",
   "execution_count": 71,
   "id": "2e03f275",
   "metadata": {},
   "outputs": [
    {
     "data": {
      "text/plain": [
       "2442126846544"
      ]
     },
     "execution_count": 71,
     "metadata": {},
     "output_type": "execute_result"
    }
   ],
   "source": [
    "id(x)"
   ]
  },
  {
   "cell_type": "code",
   "execution_count": 72,
   "id": "0fdd5601",
   "metadata": {},
   "outputs": [
    {
     "data": {
      "text/plain": [
       "2442126846544"
      ]
     },
     "execution_count": 72,
     "metadata": {},
     "output_type": "execute_result"
    }
   ],
   "source": [
    "id(y)"
   ]
  },
  {
   "cell_type": "code",
   "execution_count": null,
   "id": "a2e1d477",
   "metadata": {},
   "outputs": [],
   "source": []
  }
 ],
 "metadata": {
  "kernelspec": {
   "display_name": "Python 3 (ipykernel)",
   "language": "python",
   "name": "python3"
  },
  "language_info": {
   "codemirror_mode": {
    "name": "ipython",
    "version": 3
   },
   "file_extension": ".py",
   "mimetype": "text/x-python",
   "name": "python",
   "nbconvert_exporter": "python",
   "pygments_lexer": "ipython3",
   "version": "3.9.13"
  }
 },
 "nbformat": 4,
 "nbformat_minor": 5
}
