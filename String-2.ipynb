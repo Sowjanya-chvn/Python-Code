{
 "cells": [
  {
   "cell_type": "code",
   "execution_count": 1,
   "id": "e7e47897",
   "metadata": {},
   "outputs": [
    {
     "data": {
      "text/plain": [
       "'@b@cdef@'"
      ]
     },
     "execution_count": 1,
     "metadata": {},
     "output_type": "execute_result"
    }
   ],
   "source": [
    "x=\"abacdefa\"\n",
    "x.replace(\"a\",\"@\")"
   ]
  },
  {
   "cell_type": "code",
   "execution_count": 3,
   "id": "fb61e5e4",
   "metadata": {},
   "outputs": [
    {
     "data": {
      "text/plain": [
       "'@@@@b@@@@cdef@@@@'"
      ]
     },
     "execution_count": 3,
     "metadata": {},
     "output_type": "execute_result"
    }
   ],
   "source": [
    "x.replace(\"a\",\"@@@@\")"
   ]
  },
  {
   "cell_type": "code",
   "execution_count": 6,
   "id": "0904e5d7",
   "metadata": {},
   "outputs": [],
   "source": [
    "var1=\"py ja py ja pypy\"\n",
    "var2=var1.replace(\"py\",\"python\")"
   ]
  },
  {
   "cell_type": "code",
   "execution_count": 7,
   "id": "d7ea8518",
   "metadata": {},
   "outputs": [
    {
     "data": {
      "text/plain": [
       "'python java python java pythonpython'"
      ]
     },
     "execution_count": 7,
     "metadata": {},
     "output_type": "execute_result"
    }
   ],
   "source": [
    "var2.replace(\"ja\",\"java\")"
   ]
  },
  {
   "cell_type": "code",
   "execution_count": 12,
   "id": "9ec16031",
   "metadata": {},
   "outputs": [
    {
     "data": {
      "text/plain": [
       "'@bcdef@@a'"
      ]
     },
     "execution_count": 12,
     "metadata": {},
     "output_type": "execute_result"
    }
   ],
   "source": [
    "var3=\"abcdefaaa\"\n",
    "var3.replace(\"a\",\"@\",3)"
   ]
  },
  {
   "cell_type": "code",
   "execution_count": 14,
   "id": "7c6bb98b",
   "metadata": {},
   "outputs": [
    {
     "data": {
      "text/plain": [
       "2"
      ]
     },
     "execution_count": 14,
     "metadata": {},
     "output_type": "execute_result"
    }
   ],
   "source": [
    "var4=\"ebacdaea\"\n",
    "var4.index(\"a\")"
   ]
  },
  {
   "cell_type": "code",
   "execution_count": 16,
   "id": "d6a21ed3",
   "metadata": {},
   "outputs": [
    {
     "data": {
      "text/plain": [
       "5"
      ]
     },
     "execution_count": 16,
     "metadata": {},
     "output_type": "execute_result"
    }
   ],
   "source": [
    "var4.index(\"a\",3)"
   ]
  },
  {
   "cell_type": "code",
   "execution_count": 17,
   "id": "c9c57546",
   "metadata": {},
   "outputs": [
    {
     "data": {
      "text/plain": [
       "7"
      ]
     },
     "execution_count": 17,
     "metadata": {},
     "output_type": "execute_result"
    }
   ],
   "source": [
    "var4.index(\"a\",6)"
   ]
  },
  {
   "cell_type": "code",
   "execution_count": 18,
   "id": "c5c9e3c4",
   "metadata": {},
   "outputs": [
    {
     "ename": "ValueError",
     "evalue": "substring not found",
     "output_type": "error",
     "traceback": [
      "\u001b[1;31m---------------------------------------------------------------------------\u001b[0m",
      "\u001b[1;31mValueError\u001b[0m                                Traceback (most recent call last)",
      "\u001b[1;32m~\\AppData\\Local\\Temp\\ipykernel_13208\\1758909386.py\u001b[0m in \u001b[0;36m<module>\u001b[1;34m\u001b[0m\n\u001b[1;32m----> 1\u001b[1;33m \u001b[0mvar4\u001b[0m\u001b[1;33m.\u001b[0m\u001b[0mindex\u001b[0m\u001b[1;33m(\u001b[0m\u001b[1;34m\"a\"\u001b[0m\u001b[1;33m,\u001b[0m\u001b[1;36m8\u001b[0m\u001b[1;33m)\u001b[0m\u001b[1;33m\u001b[0m\u001b[1;33m\u001b[0m\u001b[0m\n\u001b[0m",
      "\u001b[1;31mValueError\u001b[0m: substring not found"
     ]
    }
   ],
   "source": [
    "var4.index(\"a\",8)"
   ]
  },
  {
   "cell_type": "code",
   "execution_count": 19,
   "id": "97090c4d",
   "metadata": {},
   "outputs": [
    {
     "ename": "ValueError",
     "evalue": "substring not found",
     "output_type": "error",
     "traceback": [
      "\u001b[1;31m---------------------------------------------------------------------------\u001b[0m",
      "\u001b[1;31mValueError\u001b[0m                                Traceback (most recent call last)",
      "\u001b[1;32m~\\AppData\\Local\\Temp\\ipykernel_13208\\2712653537.py\u001b[0m in \u001b[0;36m<module>\u001b[1;34m\u001b[0m\n\u001b[0;32m      1\u001b[0m \u001b[0mx\u001b[0m\u001b[1;33m=\u001b[0m\u001b[1;34m\"aaab\"\u001b[0m\u001b[1;33m\u001b[0m\u001b[1;33m\u001b[0m\u001b[0m\n\u001b[1;32m----> 2\u001b[1;33m \u001b[0mx\u001b[0m\u001b[1;33m.\u001b[0m\u001b[0mindex\u001b[0m\u001b[1;33m(\u001b[0m\u001b[1;34m\"d\"\u001b[0m\u001b[1;33m)\u001b[0m\u001b[1;33m\u001b[0m\u001b[1;33m\u001b[0m\u001b[0m\n\u001b[0m",
      "\u001b[1;31mValueError\u001b[0m: substring not found"
     ]
    }
   ],
   "source": [
    "x=\"aaab\"\n",
    "x.index(\"d\")"
   ]
  },
  {
   "cell_type": "code",
   "execution_count": 20,
   "id": "f74fd431",
   "metadata": {},
   "outputs": [
    {
     "data": {
      "text/plain": [
       "4"
      ]
     },
     "execution_count": 20,
     "metadata": {},
     "output_type": "execute_result"
    }
   ],
   "source": [
    "var5=\"abcdebhgbib\"\n",
    "var5.count(\"b\")"
   ]
  },
  {
   "cell_type": "code",
   "execution_count": 21,
   "id": "7dc18d5c",
   "metadata": {},
   "outputs": [
    {
     "data": {
      "text/plain": [
       "1"
      ]
     },
     "execution_count": 21,
     "metadata": {},
     "output_type": "execute_result"
    }
   ],
   "source": [
    "var5.index(\"b\")"
   ]
  },
  {
   "cell_type": "code",
   "execution_count": 22,
   "id": "4aefa4a5",
   "metadata": {},
   "outputs": [
    {
     "data": {
      "text/plain": [
       "5"
      ]
     },
     "execution_count": 22,
     "metadata": {},
     "output_type": "execute_result"
    }
   ],
   "source": [
    "var5.index(\"b\",2)"
   ]
  },
  {
   "cell_type": "code",
   "execution_count": 23,
   "id": "55018220",
   "metadata": {},
   "outputs": [
    {
     "data": {
      "text/plain": [
       "8"
      ]
     },
     "execution_count": 23,
     "metadata": {},
     "output_type": "execute_result"
    }
   ],
   "source": [
    "var5.index(\"b\",6)"
   ]
  },
  {
   "cell_type": "code",
   "execution_count": 24,
   "id": "dbe2ea29",
   "metadata": {},
   "outputs": [
    {
     "data": {
      "text/plain": [
       "10"
      ]
     },
     "execution_count": 24,
     "metadata": {},
     "output_type": "execute_result"
    }
   ],
   "source": [
    "var5.index(\"b\",9)"
   ]
  },
  {
   "cell_type": "code",
   "execution_count": 25,
   "id": "ffb90952",
   "metadata": {},
   "outputs": [
    {
     "ename": "ValueError",
     "evalue": "substring not found",
     "output_type": "error",
     "traceback": [
      "\u001b[1;31m---------------------------------------------------------------------------\u001b[0m",
      "\u001b[1;31mValueError\u001b[0m                                Traceback (most recent call last)",
      "\u001b[1;32m~\\AppData\\Local\\Temp\\ipykernel_13208\\651615079.py\u001b[0m in \u001b[0;36m<module>\u001b[1;34m\u001b[0m\n\u001b[1;32m----> 1\u001b[1;33m \u001b[0mvar5\u001b[0m\u001b[1;33m.\u001b[0m\u001b[0mindex\u001b[0m\u001b[1;33m(\u001b[0m\u001b[1;34m\"b\"\u001b[0m\u001b[1;33m,\u001b[0m\u001b[1;36m11\u001b[0m\u001b[1;33m)\u001b[0m\u001b[1;33m\u001b[0m\u001b[1;33m\u001b[0m\u001b[0m\n\u001b[0m",
      "\u001b[1;31mValueError\u001b[0m: substring not found"
     ]
    }
   ],
   "source": [
    "var5.index(\"b\",11)"
   ]
  },
  {
   "cell_type": "code",
   "execution_count": 27,
   "id": "43a8dbce",
   "metadata": {},
   "outputs": [
    {
     "data": {
      "text/plain": [
       "'abcdebhgbib'"
      ]
     },
     "execution_count": 27,
     "metadata": {},
     "output_type": "execute_result"
    }
   ],
   "source": [
    "var5"
   ]
  },
  {
   "cell_type": "code",
   "execution_count": 33,
   "id": "de60621e",
   "metadata": {},
   "outputs": [
    {
     "data": {
      "text/plain": [
       "-1"
      ]
     },
     "execution_count": 33,
     "metadata": {},
     "output_type": "execute_result"
    }
   ],
   "source": [
    "var5.find(\"a\",1)"
   ]
  },
  {
   "cell_type": "code",
   "execution_count": 34,
   "id": "dcb918a2",
   "metadata": {},
   "outputs": [
    {
     "data": {
      "text/plain": [
       "['python', 'java', 'c++', 'ruby', 'r']"
      ]
     },
     "execution_count": 34,
     "metadata": {},
     "output_type": "execute_result"
    }
   ],
   "source": []
  },
  {
   "cell_type": "code",
   "execution_count": 37,
   "id": "0c73329d",
   "metadata": {},
   "outputs": [
    {
     "data": {
      "text/plain": [
       "['python', 'java', 'c++', 'ruby', 'r']"
      ]
     },
     "execution_count": 37,
     "metadata": {},
     "output_type": "execute_result"
    }
   ],
   "source": []
  },
  {
   "cell_type": "code",
   "execution_count": 38,
   "id": "92f48fa1",
   "metadata": {},
   "outputs": [],
   "source": [
    "var7=\"ababababa\""
   ]
  },
  {
   "cell_type": "code",
   "execution_count": 39,
   "id": "c8bca3fd",
   "metadata": {},
   "outputs": [
    {
     "data": {
      "text/plain": [
       "['', 'b', 'b', 'b', 'b', '']"
      ]
     },
     "execution_count": 39,
     "metadata": {},
     "output_type": "execute_result"
    }
   ],
   "source": [
    "var7.split(\"a\")"
   ]
  },
  {
   "cell_type": "code",
   "execution_count": 1,
   "id": "7bbde5b4",
   "metadata": {},
   "outputs": [],
   "source": [
    "var8=\"py ja ja py ja\""
   ]
  },
  {
   "cell_type": "code",
   "execution_count": 5,
   "id": "9375baf9",
   "metadata": {},
   "outputs": [
    {
     "data": {
      "text/plain": [
       "['py', 'ja ja py ja']"
      ]
     },
     "execution_count": 5,
     "metadata": {},
     "output_type": "execute_result"
    }
   ],
   "source": [
    "var8.split(\" \",1,)"
   ]
  },
  {
   "cell_type": "code",
   "execution_count": 6,
   "id": "c0295929",
   "metadata": {},
   "outputs": [
    {
     "data": {
      "text/plain": [
       "9"
      ]
     },
     "execution_count": 6,
     "metadata": {},
     "output_type": "execute_result"
    }
   ],
   "source": [
    "var9=\" jasdasd \"\n",
    "len(var9)"
   ]
  },
  {
   "cell_type": "code",
   "execution_count": 8,
   "id": "544d92b7",
   "metadata": {},
   "outputs": [
    {
     "data": {
      "text/plain": [
       "7"
      ]
     },
     "execution_count": 8,
     "metadata": {},
     "output_type": "execute_result"
    }
   ],
   "source": [
    "len(var9.strip())"
   ]
  },
  {
   "cell_type": "code",
   "execution_count": 9,
   "id": "663724cd",
   "metadata": {},
   "outputs": [
    {
     "data": {
      "text/plain": [
       "'jasd@asd'"
      ]
     },
     "execution_count": 9,
     "metadata": {},
     "output_type": "execute_result"
    }
   ],
   "source": [
    "var9=\"@jasd@asd@\"\n",
    "var9.strip(\"@\")"
   ]
  },
  {
   "cell_type": "code",
   "execution_count": 10,
   "id": "922879b8",
   "metadata": {},
   "outputs": [
    {
     "data": {
      "text/plain": [
       "'jasd@asd'"
      ]
     },
     "execution_count": 10,
     "metadata": {},
     "output_type": "execute_result"
    }
   ],
   "source": [
    "var9=\"@jasd@asd\"\n",
    "var9.strip(\"@\",)"
   ]
  },
  {
   "cell_type": "code",
   "execution_count": 13,
   "id": "bec1d718",
   "metadata": {},
   "outputs": [
    {
     "data": {
      "text/plain": [
       "'@jasd@asd'"
      ]
     },
     "execution_count": 13,
     "metadata": {},
     "output_type": "execute_result"
    }
   ],
   "source": [
    "var9"
   ]
  },
  {
   "cell_type": "code",
   "execution_count": 11,
   "id": "744a2115",
   "metadata": {},
   "outputs": [
    {
     "data": {
      "text/plain": [
       "'@jasd@asd'"
      ]
     },
     "execution_count": 11,
     "metadata": {},
     "output_type": "execute_result"
    }
   ],
   "source": [
    "var9.rstrip(\"@\")"
   ]
  },
  {
   "cell_type": "code",
   "execution_count": 12,
   "id": "5d2d8c65",
   "metadata": {},
   "outputs": [
    {
     "data": {
      "text/plain": [
       "'jasd@asd'"
      ]
     },
     "execution_count": 12,
     "metadata": {},
     "output_type": "execute_result"
    }
   ],
   "source": [
    "var9.lstrip(\"@\")"
   ]
  },
  {
   "cell_type": "code",
   "execution_count": 14,
   "id": "d6df6d9b",
   "metadata": {},
   "outputs": [
    {
     "data": {
      "text/plain": [
       "'abcd'"
      ]
     },
     "execution_count": 14,
     "metadata": {},
     "output_type": "execute_result"
    }
   ],
   "source": [
    "var10=\"#abcd#\"\n",
    "var10.strip(\"#\")"
   ]
  },
  {
   "cell_type": "code",
   "execution_count": 15,
   "id": "9d7da57a",
   "metadata": {},
   "outputs": [
    {
     "data": {
      "text/plain": [
       "'abcd#'"
      ]
     },
     "execution_count": 15,
     "metadata": {},
     "output_type": "execute_result"
    }
   ],
   "source": [
    "var10.lstrip(\"#\")"
   ]
  },
  {
   "cell_type": "code",
   "execution_count": 16,
   "id": "c425c840",
   "metadata": {},
   "outputs": [
    {
     "data": {
      "text/plain": [
       "'#abcd'"
      ]
     },
     "execution_count": 16,
     "metadata": {},
     "output_type": "execute_result"
    }
   ],
   "source": [
    "var10.rstrip(\"#\")"
   ]
  },
  {
   "cell_type": "code",
   "execution_count": 17,
   "id": "dae82085",
   "metadata": {},
   "outputs": [
    {
     "data": {
      "text/plain": [
       "True"
      ]
     },
     "execution_count": 17,
     "metadata": {},
     "output_type": "execute_result"
    }
   ],
   "source": [
    "var11=\"asdsad@\"\n",
    "var11.endswith(\"@\")"
   ]
  },
  {
   "cell_type": "code",
   "execution_count": 18,
   "id": "e11019a2",
   "metadata": {},
   "outputs": [
    {
     "data": {
      "text/plain": [
       "False"
      ]
     },
     "execution_count": 18,
     "metadata": {},
     "output_type": "execute_result"
    }
   ],
   "source": [
    "var11=\"asdsad@\"\n",
    "var11.endswith(\"sa@\")"
   ]
  },
  {
   "cell_type": "code",
   "execution_count": 19,
   "id": "a0da059b",
   "metadata": {},
   "outputs": [
    {
     "data": {
      "text/plain": [
       "True"
      ]
     },
     "execution_count": 19,
     "metadata": {},
     "output_type": "execute_result"
    }
   ],
   "source": [
    "var11=\"asdsad@\"\n",
    "var11.endswith(\"sad@\")"
   ]
  },
  {
   "cell_type": "code",
   "execution_count": 23,
   "id": "1bfa9cae",
   "metadata": {},
   "outputs": [
    {
     "data": {
      "text/plain": [
       "True"
      ]
     },
     "execution_count": 23,
     "metadata": {},
     "output_type": "execute_result"
    }
   ],
   "source": [
    "var11=\"asdsad@\"\n",
    "var11.endswith(\"s\",1,4)"
   ]
  },
  {
   "cell_type": "code",
   "execution_count": 24,
   "id": "527cadcc",
   "metadata": {},
   "outputs": [
    {
     "data": {
      "text/plain": [
       "False"
      ]
     },
     "execution_count": 24,
     "metadata": {},
     "output_type": "execute_result"
    }
   ],
   "source": [
    "var11=\"asdsad@\"\n",
    "var11.endswith(\"s\" ,1,3)"
   ]
  },
  {
   "cell_type": "code",
   "execution_count": 27,
   "id": "79ced52c",
   "metadata": {},
   "outputs": [
    {
     "data": {
      "text/plain": [
       "True"
      ]
     },
     "execution_count": 27,
     "metadata": {},
     "output_type": "execute_result"
    }
   ],
   "source": [
    "var11=\"asdsad@\"\n",
    "var11.startswith(\"as\")"
   ]
  },
  {
   "cell_type": "code",
   "execution_count": 28,
   "id": "0aa84b6a",
   "metadata": {},
   "outputs": [
    {
     "data": {
      "text/plain": [
       "False"
      ]
     },
     "execution_count": 28,
     "metadata": {},
     "output_type": "execute_result"
    }
   ],
   "source": [
    "var11=\"asdsad\"\n",
    "var11.isupper()"
   ]
  },
  {
   "cell_type": "code",
   "execution_count": 29,
   "id": "1d8fff9d",
   "metadata": {},
   "outputs": [
    {
     "data": {
      "text/plain": [
       "True"
      ]
     },
     "execution_count": 29,
     "metadata": {},
     "output_type": "execute_result"
    }
   ],
   "source": [
    "var11=\"SADSADA\"\n",
    "var11.isupper()"
   ]
  },
  {
   "cell_type": "code",
   "execution_count": 30,
   "id": "b1affb42",
   "metadata": {},
   "outputs": [
    {
     "data": {
      "text/plain": [
       "True"
      ]
     },
     "execution_count": 30,
     "metadata": {},
     "output_type": "execute_result"
    }
   ],
   "source": [
    "var11=\"SAD1221SADA\"\n",
    "var11.isupper()"
   ]
  },
  {
   "cell_type": "code",
   "execution_count": 31,
   "id": "f79d3b2f",
   "metadata": {},
   "outputs": [
    {
     "data": {
      "text/plain": [
       "False"
      ]
     },
     "execution_count": 31,
     "metadata": {},
     "output_type": "execute_result"
    }
   ],
   "source": [
    "var11=\"SAD1221SADA\"\n",
    "var11.islower()"
   ]
  },
  {
   "cell_type": "code",
   "execution_count": 35,
   "id": "010825d2",
   "metadata": {},
   "outputs": [
    {
     "data": {
      "text/plain": [
       "True"
      ]
     },
     "execution_count": 35,
     "metadata": {},
     "output_type": "execute_result"
    }
   ],
   "source": [
    "var11=\"SAD1221SADA\"\n",
    "var11.lower().islower()"
   ]
  },
  {
   "cell_type": "code",
   "execution_count": 44,
   "id": "6145d43d",
   "metadata": {},
   "outputs": [
    {
     "data": {
      "text/plain": [
       "True"
      ]
     },
     "execution_count": 44,
     "metadata": {},
     "output_type": "execute_result"
    }
   ],
   "source": [
    "var11=\"Python 1Jva Cccc\"\n",
    "var11.istitle()"
   ]
  },
  {
   "cell_type": "code",
   "execution_count": 46,
   "id": "298a9064",
   "metadata": {},
   "outputs": [
    {
     "data": {
      "text/plain": [
       "3"
      ]
     },
     "execution_count": 46,
     "metadata": {},
     "output_type": "execute_result"
    }
   ],
   "source": [
    "var12=\"PPPP AAAA\"\n",
    "var12.title().count(\"p\")"
   ]
  },
  {
   "cell_type": "code",
   "execution_count": 47,
   "id": "f43371a5",
   "metadata": {},
   "outputs": [
    {
     "data": {
      "text/plain": [
       "'abcdaa asd'"
      ]
     },
     "execution_count": 47,
     "metadata": {},
     "output_type": "execute_result"
    }
   ],
   "source": [
    "var13=\" abcdaa asd\"\n",
    "var13.strip().capitalize().lower()"
   ]
  },
  {
   "cell_type": "code",
   "execution_count": 51,
   "id": "52dfa997",
   "metadata": {},
   "outputs": [
    {
     "data": {
      "text/plain": [
       "False"
      ]
     },
     "execution_count": 51,
     "metadata": {},
     "output_type": "execute_result"
    }
   ],
   "source": [
    "var14=\"1232 4204\"\n",
    "var14.isdigit()"
   ]
  },
  {
   "cell_type": "code",
   "execution_count": 56,
   "id": "7a45b64f",
   "metadata": {},
   "outputs": [
    {
     "data": {
      "text/plain": [
       "False"
      ]
     },
     "execution_count": 56,
     "metadata": {},
     "output_type": "execute_result"
    }
   ],
   "source": [
    "var14=\"asaddadad \"\n",
    "var14.isalpha()"
   ]
  },
  {
   "cell_type": "code",
   "execution_count": 61,
   "id": "dc222db3",
   "metadata": {},
   "outputs": [
    {
     "data": {
      "text/plain": [
       "False"
      ]
     },
     "execution_count": 61,
     "metadata": {},
     "output_type": "execute_result"
    }
   ],
   "source": [
    "var14=\"-1\"\n",
    "var14.isalnum()"
   ]
  },
  {
   "cell_type": "code",
   "execution_count": 68,
   "id": "7454ae00",
   "metadata": {},
   "outputs": [
    {
     "data": {
      "text/plain": [
       "False"
      ]
     },
     "execution_count": 68,
     "metadata": {},
     "output_type": "execute_result"
    }
   ],
   "source": [
    "var14=\"  .  \"\n",
    "var14.isspace()"
   ]
  },
  {
   "cell_type": "code",
   "execution_count": null,
   "id": "d33a821d",
   "metadata": {},
   "outputs": [],
   "source": []
  }
 ],
 "metadata": {
  "kernelspec": {
   "display_name": "Python 3 (ipykernel)",
   "language": "python",
   "name": "python3"
  },
  "language_info": {
   "codemirror_mode": {
    "name": "ipython",
    "version": 3
   },
   "file_extension": ".py",
   "mimetype": "text/x-python",
   "name": "python",
   "nbconvert_exporter": "python",
   "pygments_lexer": "ipython3",
   "version": "3.9.13"
  }
 },
 "nbformat": 4,
 "nbformat_minor": 5
}
