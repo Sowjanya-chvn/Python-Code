{
 "cells": [
  {
   "cell_type": "code",
   "execution_count": 6,
   "id": "d9f466d1",
   "metadata": {},
   "outputs": [],
   "source": [
    "var1=\"abdc@123\""
   ]
  },
  {
   "cell_type": "code",
   "execution_count": 7,
   "id": "8ef6aabc",
   "metadata": {},
   "outputs": [
    {
     "data": {
      "text/plain": [
       "str"
      ]
     },
     "execution_count": 7,
     "metadata": {},
     "output_type": "execute_result"
    }
   ],
   "source": [
    "type(var1)"
   ]
  },
  {
   "cell_type": "code",
   "execution_count": 8,
   "id": "3fe3a139",
   "metadata": {},
   "outputs": [
    {
     "data": {
      "text/plain": [
       "'a'"
      ]
     },
     "execution_count": 8,
     "metadata": {},
     "output_type": "execute_result"
    }
   ],
   "source": [
    "var1[0]"
   ]
  },
  {
   "cell_type": "code",
   "execution_count": 9,
   "id": "7aa137e0",
   "metadata": {},
   "outputs": [
    {
     "data": {
      "text/plain": [
       "'abdc@123'"
      ]
     },
     "execution_count": 9,
     "metadata": {},
     "output_type": "execute_result"
    }
   ],
   "source": [
    "var1"
   ]
  },
  {
   "cell_type": "code",
   "execution_count": 10,
   "id": "f83137da",
   "metadata": {},
   "outputs": [
    {
     "data": {
      "text/plain": [
       "'@'"
      ]
     },
     "execution_count": 10,
     "metadata": {},
     "output_type": "execute_result"
    }
   ],
   "source": [
    "var1[4]"
   ]
  },
  {
   "cell_type": "code",
   "execution_count": 12,
   "id": "c20afe6b",
   "metadata": {},
   "outputs": [
    {
     "data": {
      "text/plain": [
       "'@'"
      ]
     },
     "execution_count": 12,
     "metadata": {},
     "output_type": "execute_result"
    }
   ],
   "source": [
    "v  "
   ]
  },
  {
   "cell_type": "code",
   "execution_count": 19,
   "id": "465d5dff",
   "metadata": {},
   "outputs": [
    {
     "data": {
      "text/plain": [
       "'bc'"
      ]
     },
     "execution_count": 19,
     "metadata": {},
     "output_type": "execute_result"
    }
   ],
   "source": [
    "var2=\"abcde12@\"\n",
    "var2[1:3]"
   ]
  },
  {
   "cell_type": "code",
   "execution_count": 25,
   "id": "544d00d1",
   "metadata": {},
   "outputs": [
    {
     "data": {
      "text/plain": [
       "'de12@'"
      ]
     },
     "execution_count": 25,
     "metadata": {},
     "output_type": "execute_result"
    }
   ],
   "source": [
    "var2=\"abcde12@\"\n",
    "var2[-5:]"
   ]
  },
  {
   "cell_type": "code",
   "execution_count": 26,
   "id": "dd115f0e",
   "metadata": {},
   "outputs": [],
   "source": [
    "var3=\"\""
   ]
  },
  {
   "cell_type": "code",
   "execution_count": 27,
   "id": "045e5567",
   "metadata": {},
   "outputs": [],
   "source": [
    "var4=\"adsadsfsafsfwsfrdfgfdfgdgdgfd\""
   ]
  },
  {
   "cell_type": "code",
   "execution_count": 28,
   "id": "588666dd",
   "metadata": {},
   "outputs": [
    {
     "data": {
      "text/plain": [
       "29"
      ]
     },
     "execution_count": 28,
     "metadata": {},
     "output_type": "execute_result"
    }
   ],
   "source": [
    "len(var4)"
   ]
  },
  {
   "cell_type": "code",
   "execution_count": 29,
   "id": "ddc1ef45",
   "metadata": {},
   "outputs": [
    {
     "data": {
      "text/plain": [
       "0"
      ]
     },
     "execution_count": 29,
     "metadata": {},
     "output_type": "execute_result"
    }
   ],
   "source": [
    "len(var3)"
   ]
  },
  {
   "cell_type": "code",
   "execution_count": 30,
   "id": "d50f4de1",
   "metadata": {},
   "outputs": [],
   "source": [
    "var5=\" \""
   ]
  },
  {
   "cell_type": "code",
   "execution_count": 31,
   "id": "e3be65ea",
   "metadata": {},
   "outputs": [
    {
     "data": {
      "text/plain": [
       "1"
      ]
     },
     "execution_count": 31,
     "metadata": {},
     "output_type": "execute_result"
    }
   ],
   "source": [
    "len(var5)"
   ]
  },
  {
   "cell_type": "code",
   "execution_count": 38,
   "id": "c182eec8",
   "metadata": {},
   "outputs": [],
   "source": [
    "var6=\"ABCdef\""
   ]
  },
  {
   "cell_type": "code",
   "execution_count": 39,
   "id": "8faeb876",
   "metadata": {},
   "outputs": [
    {
     "data": {
      "text/plain": [
       "'abcdef'"
      ]
     },
     "execution_count": 39,
     "metadata": {},
     "output_type": "execute_result"
    }
   ],
   "source": [
    "var6.lower()"
   ]
  },
  {
   "cell_type": "code",
   "execution_count": 40,
   "id": "0ff9cf2f",
   "metadata": {},
   "outputs": [
    {
     "data": {
      "text/plain": [
       "'ABCdef'"
      ]
     },
     "execution_count": 40,
     "metadata": {},
     "output_type": "execute_result"
    }
   ],
   "source": [
    "var6"
   ]
  },
  {
   "cell_type": "code",
   "execution_count": 41,
   "id": "edcd3554",
   "metadata": {},
   "outputs": [],
   "source": [
    "var6=\"ABCdef123\""
   ]
  },
  {
   "cell_type": "code",
   "execution_count": 42,
   "id": "2d6f85a2",
   "metadata": {},
   "outputs": [
    {
     "data": {
      "text/plain": [
       "'abcdef123'"
      ]
     },
     "execution_count": 42,
     "metadata": {},
     "output_type": "execute_result"
    }
   ],
   "source": [
    "var6.lower()"
   ]
  },
  {
   "cell_type": "code",
   "execution_count": 44,
   "id": "5b205482",
   "metadata": {},
   "outputs": [
    {
     "data": {
      "text/plain": [
       "'ABCDFAAA'"
      ]
     },
     "execution_count": 44,
     "metadata": {},
     "output_type": "execute_result"
    }
   ],
   "source": [
    "var7=\"abcdfAAA\"\n",
    "var7.upper()"
   ]
  },
  {
   "cell_type": "code",
   "execution_count": 45,
   "id": "1c0e6ece",
   "metadata": {},
   "outputs": [
    {
     "ename": "AttributeError",
     "evalue": "'int' object has no attribute 'lower'",
     "output_type": "error",
     "traceback": [
      "\u001b[1;31m---------------------------------------------------------------------------\u001b[0m",
      "\u001b[1;31mAttributeError\u001b[0m                            Traceback (most recent call last)",
      "\u001b[1;32m~\\AppData\\Local\\Temp\\ipykernel_5524\\507020066.py\u001b[0m in \u001b[0;36m<module>\u001b[1;34m\u001b[0m\n\u001b[0;32m      1\u001b[0m \u001b[0mvar8\u001b[0m\u001b[1;33m=\u001b[0m\u001b[1;36m1\u001b[0m\u001b[1;33m\u001b[0m\u001b[1;33m\u001b[0m\u001b[0m\n\u001b[1;32m----> 2\u001b[1;33m \u001b[0mvar8\u001b[0m\u001b[1;33m.\u001b[0m\u001b[0mlower\u001b[0m\u001b[1;33m(\u001b[0m\u001b[1;33m)\u001b[0m\u001b[1;33m\u001b[0m\u001b[1;33m\u001b[0m\u001b[0m\n\u001b[0m",
      "\u001b[1;31mAttributeError\u001b[0m: 'int' object has no attribute 'lower'"
     ]
    }
   ],
   "source": [
    "var8=1\n",
    "var8.lower()"
   ]
  },
  {
   "cell_type": "code",
   "execution_count": 46,
   "id": "fa512227",
   "metadata": {},
   "outputs": [
    {
     "data": {
      "text/plain": [
       "'Asdsada'"
      ]
     },
     "execution_count": 46,
     "metadata": {},
     "output_type": "execute_result"
    }
   ],
   "source": [
    "var9=\"asdsada\"\n",
    "var9.capitalize()"
   ]
  },
  {
   "cell_type": "code",
   "execution_count": 47,
   "id": "62de2e5c",
   "metadata": {},
   "outputs": [
    {
     "data": {
      "text/plain": [
       "'1asdsada'"
      ]
     },
     "execution_count": 47,
     "metadata": {},
     "output_type": "execute_result"
    }
   ],
   "source": [
    "var9=\"1asdsada\"\n",
    "var9.capitalize()"
   ]
  },
  {
   "cell_type": "code",
   "execution_count": 48,
   "id": "40b5523b",
   "metadata": {},
   "outputs": [
    {
     "data": {
      "text/plain": [
       "'aBcDEF'"
      ]
     },
     "execution_count": 48,
     "metadata": {},
     "output_type": "execute_result"
    }
   ],
   "source": [
    "var10=\"AbCdef\"\n",
    "var10.swapcase()"
   ]
  },
  {
   "cell_type": "code",
   "execution_count": 52,
   "id": "22a54de3",
   "metadata": {},
   "outputs": [
    {
     "data": {
      "text/plain": [
       "'1@@27273 22Java Oracle'"
      ]
     },
     "execution_count": 52,
     "metadata": {},
     "output_type": "execute_result"
    }
   ],
   "source": [
    "var10=\"1@@27273 22java oracle\"\n",
    "var10.title()"
   ]
  },
  {
   "cell_type": "code",
   "execution_count": 53,
   "id": "85b2d373",
   "metadata": {},
   "outputs": [
    {
     "data": {
      "text/plain": [
       "9"
      ]
     },
     "execution_count": 53,
     "metadata": {},
     "output_type": "execute_result"
    }
   ],
   "source": [
    "var11=\"aaaaabsdfsfaaaa\"\n",
    "var11.count(\"a\")"
   ]
  },
  {
   "cell_type": "code",
   "execution_count": 62,
   "id": "51a78b3b",
   "metadata": {},
   "outputs": [
    {
     "data": {
      "text/plain": [
       "2"
      ]
     },
     "execution_count": 62,
     "metadata": {},
     "output_type": "execute_result"
    }
   ],
   "source": [
    "var12=\"py pypy pyab bc afge\"\n",
    "var12.count(\"py\",2,7)"
   ]
  },
  {
   "cell_type": "code",
   "execution_count": null,
   "id": "7a553700",
   "metadata": {},
   "outputs": [],
   "source": []
  }
 ],
 "metadata": {
  "kernelspec": {
   "display_name": "Python 3 (ipykernel)",
   "language": "python",
   "name": "python3"
  },
  "language_info": {
   "codemirror_mode": {
    "name": "ipython",
    "version": 3
   },
   "file_extension": ".py",
   "mimetype": "text/x-python",
   "name": "python",
   "nbconvert_exporter": "python",
   "pygments_lexer": "ipython3",
   "version": "3.9.13"
  }
 },
 "nbformat": 4,
 "nbformat_minor": 5
}
