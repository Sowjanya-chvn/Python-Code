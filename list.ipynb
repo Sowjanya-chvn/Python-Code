{
 "cells": [
  {
   "cell_type": "code",
   "execution_count": 1,
   "id": "00a62059",
   "metadata": {},
   "outputs": [],
   "source": [
    "var1=[1,2,3,1+2j,\"a\",\"b\"]"
   ]
  },
  {
   "cell_type": "code",
   "execution_count": 2,
   "id": "6e0b0227",
   "metadata": {},
   "outputs": [
    {
     "data": {
      "text/plain": [
       "list"
      ]
     },
     "execution_count": 2,
     "metadata": {},
     "output_type": "execute_result"
    }
   ],
   "source": [
    "type(var1)"
   ]
  },
  {
   "cell_type": "code",
   "execution_count": 5,
   "id": "c0e50a00",
   "metadata": {},
   "outputs": [],
   "source": [
    "var2=list((1,2,2+1j,\"s\",\"b\"))"
   ]
  },
  {
   "cell_type": "code",
   "execution_count": 6,
   "id": "449f20cc",
   "metadata": {},
   "outputs": [
    {
     "data": {
      "text/plain": [
       "list"
      ]
     },
     "execution_count": 6,
     "metadata": {},
     "output_type": "execute_result"
    }
   ],
   "source": [
    "type(var2)"
   ]
  },
  {
   "cell_type": "code",
   "execution_count": 7,
   "id": "3d631465",
   "metadata": {},
   "outputs": [
    {
     "data": {
      "text/plain": [
       "[1, 2, (2+1j), 's', 'b']"
      ]
     },
     "execution_count": 7,
     "metadata": {},
     "output_type": "execute_result"
    }
   ],
   "source": [
    "var2"
   ]
  },
  {
   "cell_type": "code",
   "execution_count": 10,
   "id": "09e05f1c",
   "metadata": {},
   "outputs": [
    {
     "data": {
      "text/plain": [
       "[(2+1j), 's', 'b']"
      ]
     },
     "execution_count": 10,
     "metadata": {},
     "output_type": "execute_result"
    }
   ],
   "source": [
    "var2[2:]"
   ]
  },
  {
   "cell_type": "code",
   "execution_count": 11,
   "id": "8887319c",
   "metadata": {},
   "outputs": [],
   "source": [
    "var1=[1,1,1,1,1]"
   ]
  },
  {
   "cell_type": "code",
   "execution_count": 12,
   "id": "e68efa9f",
   "metadata": {},
   "outputs": [
    {
     "data": {
      "text/plain": [
       "[1, 1, 1, 1, 1]"
      ]
     },
     "execution_count": 12,
     "metadata": {},
     "output_type": "execute_result"
    }
   ],
   "source": [
    "var1"
   ]
  },
  {
   "cell_type": "code",
   "execution_count": null,
   "id": "146db425",
   "metadata": {},
   "outputs": [],
   "source": []
  }
 ],
 "metadata": {
  "kernelspec": {
   "display_name": "Python 3 (ipykernel)",
   "language": "python",
   "name": "python3"
  },
  "language_info": {
   "codemirror_mode": {
    "name": "ipython",
    "version": 3
   },
   "file_extension": ".py",
   "mimetype": "text/x-python",
   "name": "python",
   "nbconvert_exporter": "python",
   "pygments_lexer": "ipython3",
   "version": "3.9.13"
  }
 },
 "nbformat": 4,
 "nbformat_minor": 5
}
